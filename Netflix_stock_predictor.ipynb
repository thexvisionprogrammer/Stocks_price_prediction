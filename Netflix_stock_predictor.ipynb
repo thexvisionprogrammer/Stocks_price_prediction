{
 "cells": [
  {
   "cell_type": "code",
   "execution_count": 1,
   "id": "cdaf5db6",
   "metadata": {},
   "outputs": [],
   "source": [
    "import pandas as pd"
   ]
  },
  {
   "cell_type": "code",
   "execution_count": 2,
   "id": "da8d7f67",
   "metadata": {},
   "outputs": [],
   "source": [
    "import numpy as np\n"
   ]
  },
  {
   "cell_type": "code",
   "execution_count": 3,
   "id": "a3b3c085",
   "metadata": {},
   "outputs": [],
   "source": [
    "from matplotlib import pyplot as plt"
   ]
  },
  {
   "cell_type": "code",
   "execution_count": 4,
   "id": "34d68dc2",
   "metadata": {},
   "outputs": [],
   "source": [
    "from sklearn import model_selection"
   ]
  },
  {
   "cell_type": "code",
   "execution_count": 5,
   "id": "f4a6fd78",
   "metadata": {},
   "outputs": [],
   "source": [
    "from sklearn.metrics import confusion_matrix"
   ]
  },
  {
   "cell_type": "code",
   "execution_count": 6,
   "id": "b7580170",
   "metadata": {},
   "outputs": [],
   "source": [
    "from sklearn.preprocessing import StandardScaler\n"
   ]
  },
  {
   "cell_type": "code",
   "execution_count": 7,
   "id": "cdd23812",
   "metadata": {},
   "outputs": [],
   "source": [
    "from sklearn.model_selection import train_test_split"
   ]
  },
  {
   "cell_type": "code",
   "execution_count": 8,
   "id": "0378c1b4",
   "metadata": {},
   "outputs": [],
   "source": [
    "from sklearn.preprocessing import MinMaxScaler"
   ]
  },
  {
   "cell_type": "code",
   "execution_count": 9,
   "id": "6bcbb1d9",
   "metadata": {},
   "outputs": [],
   "source": [
    "from keras.models import Sequential\n"
   ]
  },
  {
   "cell_type": "code",
   "execution_count": 10,
   "id": "23a7c10f",
   "metadata": {},
   "outputs": [],
   "source": [
    "import keras "
   ]
  },
  {
   "cell_type": "code",
   "execution_count": 11,
   "id": "df7bc4b5",
   "metadata": {},
   "outputs": [],
   "source": [
    "from keras.models import Sequential\n"
   ]
  },
  {
   "cell_type": "code",
   "execution_count": 12,
   "id": "fb1e98a7",
   "metadata": {},
   "outputs": [],
   "source": [
    "from keras.layers import Dense"
   ]
  },
  {
   "cell_type": "code",
   "execution_count": 13,
   "id": "34458c3f",
   "metadata": {},
   "outputs": [],
   "source": [
    "from keras.layers import LSTM"
   ]
  },
  {
   "cell_type": "code",
   "execution_count": 14,
   "id": "30b90303",
   "metadata": {},
   "outputs": [],
   "source": [
    "from keras.layers import Dropout\n"
   ]
  },
  {
   "cell_type": "code",
   "execution_count": 15,
   "id": "6d16d794",
   "metadata": {},
   "outputs": [],
   "source": [
    "df = pd.read_csv(\"NFLX.csv\")"
   ]
  },
  {
   "cell_type": "code",
   "execution_count": 16,
   "id": "1a30aa93",
   "metadata": {},
   "outputs": [
    {
     "data": {
      "text/html": [
       "<div>\n",
       "<style scoped>\n",
       "    .dataframe tbody tr th:only-of-type {\n",
       "        vertical-align: middle;\n",
       "    }\n",
       "\n",
       "    .dataframe tbody tr th {\n",
       "        vertical-align: top;\n",
       "    }\n",
       "\n",
       "    .dataframe thead th {\n",
       "        text-align: right;\n",
       "    }\n",
       "</style>\n",
       "<table border=\"1\" class=\"dataframe\">\n",
       "  <thead>\n",
       "    <tr style=\"text-align: right;\">\n",
       "      <th></th>\n",
       "      <th>Date</th>\n",
       "      <th>Open</th>\n",
       "      <th>High</th>\n",
       "      <th>Low</th>\n",
       "      <th>Close</th>\n",
       "      <th>Adj Close</th>\n",
       "      <th>Volume</th>\n",
       "    </tr>\n",
       "  </thead>\n",
       "  <tbody>\n",
       "    <tr>\n",
       "      <th>0</th>\n",
       "      <td>2002-05-23</td>\n",
       "      <td>1.156429</td>\n",
       "      <td>1.242857</td>\n",
       "      <td>1.145714</td>\n",
       "      <td>1.196429</td>\n",
       "      <td>1.196429</td>\n",
       "      <td>104790000</td>\n",
       "    </tr>\n",
       "    <tr>\n",
       "      <th>1</th>\n",
       "      <td>2002-05-24</td>\n",
       "      <td>1.214286</td>\n",
       "      <td>1.225000</td>\n",
       "      <td>1.197143</td>\n",
       "      <td>1.210000</td>\n",
       "      <td>1.210000</td>\n",
       "      <td>11104800</td>\n",
       "    </tr>\n",
       "    <tr>\n",
       "      <th>2</th>\n",
       "      <td>2002-05-28</td>\n",
       "      <td>1.213571</td>\n",
       "      <td>1.232143</td>\n",
       "      <td>1.157143</td>\n",
       "      <td>1.157143</td>\n",
       "      <td>1.157143</td>\n",
       "      <td>6609400</td>\n",
       "    </tr>\n",
       "    <tr>\n",
       "      <th>3</th>\n",
       "      <td>2002-05-29</td>\n",
       "      <td>1.164286</td>\n",
       "      <td>1.164286</td>\n",
       "      <td>1.085714</td>\n",
       "      <td>1.103571</td>\n",
       "      <td>1.103571</td>\n",
       "      <td>6757800</td>\n",
       "    </tr>\n",
       "    <tr>\n",
       "      <th>4</th>\n",
       "      <td>2002-05-30</td>\n",
       "      <td>1.107857</td>\n",
       "      <td>1.107857</td>\n",
       "      <td>1.071429</td>\n",
       "      <td>1.071429</td>\n",
       "      <td>1.071429</td>\n",
       "      <td>10154200</td>\n",
       "    </tr>\n",
       "    <tr>\n",
       "      <th>5</th>\n",
       "      <td>2002-05-31</td>\n",
       "      <td>1.078571</td>\n",
       "      <td>1.078571</td>\n",
       "      <td>1.071429</td>\n",
       "      <td>1.076429</td>\n",
       "      <td>1.076429</td>\n",
       "      <td>8464400</td>\n",
       "    </tr>\n",
       "    <tr>\n",
       "      <th>6</th>\n",
       "      <td>2002-06-03</td>\n",
       "      <td>1.080000</td>\n",
       "      <td>1.149286</td>\n",
       "      <td>1.076429</td>\n",
       "      <td>1.128571</td>\n",
       "      <td>1.128571</td>\n",
       "      <td>3151400</td>\n",
       "    </tr>\n",
       "    <tr>\n",
       "      <th>7</th>\n",
       "      <td>2002-06-04</td>\n",
       "      <td>1.135714</td>\n",
       "      <td>1.140000</td>\n",
       "      <td>1.110714</td>\n",
       "      <td>1.117857</td>\n",
       "      <td>1.117857</td>\n",
       "      <td>3105200</td>\n",
       "    </tr>\n",
       "    <tr>\n",
       "      <th>8</th>\n",
       "      <td>2002-06-05</td>\n",
       "      <td>1.110714</td>\n",
       "      <td>1.159286</td>\n",
       "      <td>1.107143</td>\n",
       "      <td>1.147143</td>\n",
       "      <td>1.147143</td>\n",
       "      <td>1531600</td>\n",
       "    </tr>\n",
       "    <tr>\n",
       "      <th>9</th>\n",
       "      <td>2002-06-06</td>\n",
       "      <td>1.150000</td>\n",
       "      <td>1.232143</td>\n",
       "      <td>1.148571</td>\n",
       "      <td>1.182143</td>\n",
       "      <td>1.182143</td>\n",
       "      <td>2305800</td>\n",
       "    </tr>\n",
       "  </tbody>\n",
       "</table>\n",
       "</div>"
      ],
      "text/plain": [
       "         Date      Open      High       Low     Close  Adj Close     Volume\n",
       "0  2002-05-23  1.156429  1.242857  1.145714  1.196429   1.196429  104790000\n",
       "1  2002-05-24  1.214286  1.225000  1.197143  1.210000   1.210000   11104800\n",
       "2  2002-05-28  1.213571  1.232143  1.157143  1.157143   1.157143    6609400\n",
       "3  2002-05-29  1.164286  1.164286  1.085714  1.103571   1.103571    6757800\n",
       "4  2002-05-30  1.107857  1.107857  1.071429  1.071429   1.071429   10154200\n",
       "5  2002-05-31  1.078571  1.078571  1.071429  1.076429   1.076429    8464400\n",
       "6  2002-06-03  1.080000  1.149286  1.076429  1.128571   1.128571    3151400\n",
       "7  2002-06-04  1.135714  1.140000  1.110714  1.117857   1.117857    3105200\n",
       "8  2002-06-05  1.110714  1.159286  1.107143  1.147143   1.147143    1531600\n",
       "9  2002-06-06  1.150000  1.232143  1.148571  1.182143   1.182143    2305800"
      ]
     },
     "execution_count": 16,
     "metadata": {},
     "output_type": "execute_result"
    }
   ],
   "source": [
    "df.head(10)"
   ]
  },
  {
   "cell_type": "markdown",
   "id": "110aa9f0",
   "metadata": {},
   "source": [
    "# Training And Testing Of Data"
   ]
  },
  {
   "cell_type": "code",
   "execution_count": 17,
   "id": "b054b7e4",
   "metadata": {},
   "outputs": [
    {
     "data": {
      "text/plain": [
       "(5044, 7)"
      ]
     },
     "execution_count": 17,
     "metadata": {},
     "output_type": "execute_result"
    }
   ],
   "source": [
    "df.shape"
   ]
  },
  {
   "cell_type": "code",
   "execution_count": 18,
   "id": "7256fdd7",
   "metadata": {},
   "outputs": [],
   "source": [
    "df1_train = df.reset_index()['Close']"
   ]
  },
  {
   "cell_type": "code",
   "execution_count": 19,
   "id": "7811bfd8",
   "metadata": {},
   "outputs": [
    {
     "data": {
      "text/plain": [
       "0    1.196429\n",
       "1    1.210000\n",
       "2    1.157143\n",
       "3    1.103571\n",
       "4    1.071429\n",
       "Name: Close, dtype: float64"
      ]
     },
     "execution_count": 19,
     "metadata": {},
     "output_type": "execute_result"
    }
   ],
   "source": [
    "df1_train.head()"
   ]
  },
  {
   "cell_type": "code",
   "execution_count": 20,
   "id": "602ce921",
   "metadata": {},
   "outputs": [
    {
     "data": {
      "text/plain": [
       "(5044,)"
      ]
     },
     "execution_count": 20,
     "metadata": {},
     "output_type": "execute_result"
    }
   ],
   "source": [
    "df1_train.shape"
   ]
  },
  {
   "cell_type": "code",
   "execution_count": 21,
   "id": "e48ebf58",
   "metadata": {},
   "outputs": [
    {
     "data": {
      "text/plain": [
       "[<matplotlib.lines.Line2D at 0x2a41b684a60>]"
      ]
     },
     "execution_count": 21,
     "metadata": {},
     "output_type": "execute_result"
    },
    {
     "data": {
      "image/png": "[encoded data removed]",
      "text/plain": [
       "<Figure size 432x288 with 1 Axes>"
      ]
     },
     "metadata": {
      "needs_background": "light"
     },
     "output_type": "display_data"
    }
   ],
   "source": [
    "plt.plot(df1_train)"
   ]
  },
  {
   "cell_type": "markdown",
   "id": "a90f66da",
   "metadata": {},
   "source": [
    "# Scalling the data to make it fit"
   ]
  },
  {
   "cell_type": "code",
   "execution_count": 22,
   "id": "33701fa0",
   "metadata": {},
   "outputs": [],
   "source": [
    "sc = MinMaxScaler(feature_range = (0,1))\n"
   ]
  },
  {
   "cell_type": "code",
   "execution_count": 23,
   "id": "3b700280",
   "metadata": {},
   "outputs": [],
   "source": [
    "df1_train = sc.fit_transform(np.array(df1_train).reshape(-1,1))"
   ]
  },
  {
   "cell_type": "code",
   "execution_count": 24,
   "id": "822f0309",
   "metadata": {},
   "outputs": [
    {
     "data": {
      "text/plain": [
       "array([[0.00119131],\n",
       "       [0.00121094],\n",
       "       [0.00113448],\n",
       "       ...,\n",
       "       [0.2785077 ],\n",
       "       [0.29612623],\n",
       "       [0.28728803]])"
      ]
     },
     "execution_count": 24,
     "metadata": {},
     "output_type": "execute_result"
    }
   ],
   "source": [
    "df1_train"
   ]
  },
  {
   "cell_type": "markdown",
   "id": "bbb6ac51",
   "metadata": {},
   "source": [
    "# train-test split using cross validation "
   ]
  },
  {
   "cell_type": "code",
   "execution_count": 25,
   "id": "4e702b4a",
   "metadata": {},
   "outputs": [],
   "source": [
    "train_size = int(len(df1_train)*0.65)\n",
    "test_size = len(df1_train)-train_size\n",
    "train_data=df1_train[0:train_size,:]\n",
    "test_data = df1_train[train_size:len(df1_train),:1]\n"
   ]
  },
  {
   "cell_type": "code",
   "execution_count": 26,
   "id": "e2a5be04",
   "metadata": {},
   "outputs": [
    {
     "data": {
      "text/plain": [
       "(3278, 1766)"
      ]
     },
     "execution_count": 26,
     "metadata": {},
     "output_type": "execute_result"
    }
   ],
   "source": [
    "train_size, test_size"
   ]
  },
  {
   "cell_type": "markdown",
   "id": "ce8ef386",
   "metadata": {},
   "source": [
    "# data preprocessing"
   ]
  },
  {
   "cell_type": "code",
   "execution_count": 27,
   "id": "2b1646bf",
   "metadata": {},
   "outputs": [],
   "source": [
    "import numpy\n",
    "def create_ds(dataset, time_step=1):\n",
    "    x,y = [], []\n",
    "    for i in range(len(dataset)-time_step-1):\n",
    "        #i = 0...100\n",
    "        a = dataset[i:(i+time_step), 0]\n",
    "        x.append(a)\n",
    "        y.append(dataset[i+time_step,0])\n",
    "    return numpy.array(x), numpy.array(y)"
   ]
  },
  {
   "cell_type": "code",
   "execution_count": 28,
   "id": "ca499e98",
   "metadata": {},
   "outputs": [],
   "source": [
    "time_step = 100\n",
    "x_train, y_train = create_ds(train_data, time_step)\n",
    "x_test, y_test = create_ds(test_data, time_step)\n"
   ]
  },
  {
   "cell_type": "code",
   "execution_count": 29,
   "id": "483cd4d0",
   "metadata": {},
   "outputs": [
    {
     "name": "stdout",
     "output_type": "stream",
     "text": [
      "(3177, 100)\n",
      "(3177,)\n"
     ]
    },
    {
     "data": {
      "text/plain": [
       "(None, None)"
      ]
     },
     "execution_count": 29,
     "metadata": {},
     "output_type": "execute_result"
    }
   ],
   "source": [
    "print(x_train.shape), print(y_train.shape)"
   ]
  },
  {
   "cell_type": "code",
   "execution_count": 30,
   "id": "d7f4e954",
   "metadata": {},
   "outputs": [
    {
     "name": "stdout",
     "output_type": "stream",
     "text": [
      "(1665, 100)\n",
      "(1665,)\n"
     ]
    },
    {
     "data": {
      "text/plain": [
       "(None, None)"
      ]
     },
     "execution_count": 30,
     "metadata": {},
     "output_type": "execute_result"
    }
   ],
   "source": [
    "print(x_test.shape), print(y_test.shape)"
   ]
  },
  {
   "cell_type": "markdown",
   "id": "f3335684",
   "metadata": {},
   "source": [
    "# reshape input to be (samples, time_steps, features) which is rquired for LSTM"
   ]
  },
  {
   "cell_type": "code",
   "execution_count": 31,
   "id": "13621322",
   "metadata": {},
   "outputs": [],
   "source": [
    "x_train = x_train.reshape(x_train.shape[0], x_train.shape[1],1)\n",
    "x_test = x_test.reshape(x_test.shape[0], x_test.shape[1],1)\n"
   ]
  },
  {
   "cell_type": "markdown",
   "id": "a31f3518",
   "metadata": {},
   "source": [
    "# lstm model building\n"
   ]
  },
  {
   "cell_type": "code",
   "execution_count": 32,
   "id": "8e1192ca",
   "metadata": {},
   "outputs": [],
   "source": [
    "algo = Sequential()\n",
    "algo.add(LSTM(units = 50, return_sequences = True, input_shape = (100,1)))\n",
    "algo.add(LSTM(units = 50, return_sequences = True))\n",
    "algo.add(LSTM(units = 50))\n",
    "algo.add(Dense(units = 1))\n",
    "algo.compile(optimizer = 'adam', loss = 'mean_squared_error')\n"
   ]
  },
  {
   "cell_type": "code",
   "execution_count": 33,
   "id": "27dce961",
   "metadata": {},
   "outputs": [
    {
     "name": "stdout",
     "output_type": "stream",
     "text": [
      "Model: \"sequential\"\n",
      "_________________________________________________________________\n",
      " Layer (type)                Output Shape              Param #   \n",
      "=================================================================\n",
      " lstm (LSTM)                 (None, 100, 50)           10400     \n",
      "                                                                 \n",
      " lstm_1 (LSTM)               (None, 100, 50)           20200     \n",
      "                                                                 \n",
      " lstm_2 (LSTM)               (None, 50)                20200     \n",
      "                                                                 \n",
      " dense (Dense)               (None, 1)                 51        \n",
      "                                                                 \n",
      "=================================================================\n",
      "Total params: 50,851\n",
      "Trainable params: 50,851\n",
      "Non-trainable params: 0\n",
      "_________________________________________________________________\n"
     ]
    }
   ],
   "source": [
    "algo.summary()"
   ]
  },
  {
   "cell_type": "code",
   "execution_count": 34,
   "id": "b957b6e6",
   "metadata": {},
   "outputs": [
    {
     "name": "stdout",
     "output_type": "stream",
     "text": [
      "Epoch 1/50\n",
      "50/50 [==============================] - 39s 489ms/step - loss: 1.5470e-04 - val_loss: 0.0021\n",
      "Epoch 2/50\n",
      "50/50 [==============================] - 20s 411ms/step - loss: 1.4106e-05 - val_loss: 0.0018\n",
      "Epoch 3/50\n",
      "50/50 [==============================] - 21s 415ms/step - loss: 1.3186e-05 - val_loss: 0.0017\n",
      "Epoch 4/50\n",
      "50/50 [==============================] - 20s 406ms/step - loss: 1.1433e-05 - val_loss: 0.0016\n",
      "Epoch 5/50\n",
      "50/50 [==============================] - 20s 407ms/step - loss: 1.1236e-05 - val_loss: 0.0015\n",
      "Epoch 6/50\n",
      "50/50 [==============================] - 20s 408ms/step - loss: 1.0474e-05 - val_loss: 0.0020\n",
      "Epoch 7/50\n",
      "50/50 [==============================] - 20s 406ms/step - loss: 9.5337e-06 - val_loss: 0.0012\n",
      "Epoch 8/50\n",
      "50/50 [==============================] - 20s 407ms/step - loss: 9.4103e-06 - val_loss: 0.0012\n",
      "Epoch 9/50\n",
      "50/50 [==============================] - 21s 412ms/step - loss: 8.8242e-06 - val_loss: 0.0011\n",
      "Epoch 10/50\n",
      "50/50 [==============================] - 20s 410ms/step - loss: 8.6281e-06 - val_loss: 0.0013\n",
      "Epoch 11/50\n",
      "50/50 [==============================] - 21s 415ms/step - loss: 1.0491e-05 - val_loss: 0.0011\n",
      "Epoch 12/50\n",
      "50/50 [==============================] - 21s 415ms/step - loss: 8.4192e-06 - val_loss: 9.9688e-04\n",
      "Epoch 13/50\n",
      "50/50 [==============================] - 20s 410ms/step - loss: 7.0580e-06 - val_loss: 9.2576e-04\n",
      "Epoch 14/50\n",
      "50/50 [==============================] - 20s 410ms/step - loss: 7.8438e-06 - val_loss: 9.7149e-04\n",
      "Epoch 15/50\n",
      "50/50 [==============================] - 21s 417ms/step - loss: 9.5804e-06 - val_loss: 0.0016\n",
      "Epoch 16/50\n",
      "50/50 [==============================] - 20s 409ms/step - loss: 8.2326e-06 - val_loss: 0.0024\n",
      "Epoch 17/50\n",
      "50/50 [==============================] - 21s 418ms/step - loss: 6.3291e-06 - val_loss: 8.7562e-04\n",
      "Epoch 18/50\n",
      "50/50 [==============================] - 21s 416ms/step - loss: 6.0151e-06 - val_loss: 0.0012\n",
      "Epoch 19/50\n",
      "50/50 [==============================] - 20s 410ms/step - loss: 6.3690e-06 - val_loss: 9.5880e-04\n",
      "Epoch 20/50\n",
      "50/50 [==============================] - 21s 418ms/step - loss: 6.0853e-06 - val_loss: 0.0030\n",
      "Epoch 21/50\n",
      "50/50 [==============================] - 21s 414ms/step - loss: 6.2007e-06 - val_loss: 0.0011\n",
      "Epoch 22/50\n",
      "50/50 [==============================] - 20s 411ms/step - loss: 5.5062e-06 - val_loss: 0.0011\n",
      "Epoch 23/50\n",
      "50/50 [==============================] - 20s 409ms/step - loss: 6.5636e-06 - val_loss: 0.0018\n",
      "Epoch 24/50\n",
      "50/50 [==============================] - 21s 424ms/step - loss: 5.7593e-06 - val_loss: 8.6458e-04\n",
      "Epoch 25/50\n",
      "50/50 [==============================] - 20s 409ms/step - loss: 5.6271e-06 - val_loss: 8.1769e-04\n",
      "Epoch 26/50\n",
      "50/50 [==============================] - 21s 413ms/step - loss: 4.9664e-06 - val_loss: 0.0026\n",
      "Epoch 27/50\n",
      "50/50 [==============================] - 21s 419ms/step - loss: 5.2274e-06 - val_loss: 8.0290e-04\n",
      "Epoch 28/50\n",
      "50/50 [==============================] - 20s 410ms/step - loss: 4.9937e-06 - val_loss: 8.8797e-04\n",
      "Epoch 29/50\n",
      "50/50 [==============================] - 20s 411ms/step - loss: 4.8130e-06 - val_loss: 0.0010\n",
      "Epoch 30/50\n",
      "50/50 [==============================] - 20s 410ms/step - loss: 4.4591e-06 - val_loss: 0.0022\n",
      "Epoch 31/50\n",
      "50/50 [==============================] - 21s 419ms/step - loss: 4.2529e-06 - val_loss: 6.1607e-04\n",
      "Epoch 32/50\n",
      "50/50 [==============================] - 24s 484ms/step - loss: 4.8417e-06 - val_loss: 6.7392e-04\n",
      "Epoch 33/50\n",
      "50/50 [==============================] - 21s 416ms/step - loss: 4.7521e-06 - val_loss: 6.0671e-04\n",
      "Epoch 34/50\n",
      "50/50 [==============================] - 22s 448ms/step - loss: 4.3120e-06 - val_loss: 7.3288e-04\n",
      "Epoch 35/50\n",
      "50/50 [==============================] - 21s 420ms/step - loss: 3.8598e-06 - val_loss: 8.2762e-04\n",
      "Epoch 36/50\n",
      "50/50 [==============================] - 21s 411ms/step - loss: 3.8901e-06 - val_loss: 6.1460e-04\n",
      "Epoch 37/50\n",
      "50/50 [==============================] - 21s 422ms/step - loss: 4.2311e-06 - val_loss: 5.8474e-04\n",
      "Epoch 38/50\n",
      "50/50 [==============================] - 21s 422ms/step - loss: 4.9327e-06 - val_loss: 9.2006e-04\n",
      "Epoch 39/50\n",
      "50/50 [==============================] - 21s 413ms/step - loss: 3.3400e-06 - val_loss: 9.6916e-04\n",
      "Epoch 40/50\n",
      "50/50 [==============================] - 21s 413ms/step - loss: 3.3973e-06 - val_loss: 5.0340e-04\n",
      "Epoch 41/50\n",
      "50/50 [==============================] - 21s 414ms/step - loss: 4.3078e-06 - val_loss: 0.0013\n",
      "Epoch 42/50\n",
      "50/50 [==============================] - 20s 410ms/step - loss: 3.6508e-06 - val_loss: 4.9368e-04\n",
      "Epoch 43/50\n",
      "50/50 [==============================] - 20s 410ms/step - loss: 3.3986e-06 - val_loss: 8.2824e-04\n",
      "Epoch 44/50\n",
      "50/50 [==============================] - 21s 419ms/step - loss: 3.2307e-06 - val_loss: 8.5045e-04\n",
      "Epoch 45/50\n",
      "50/50 [==============================] - 21s 413ms/step - loss: 3.5952e-06 - val_loss: 4.6626e-04\n",
      "Epoch 46/50\n",
      "50/50 [==============================] - 21s 421ms/step - loss: 4.3747e-06 - val_loss: 4.5557e-04\n",
      "Epoch 47/50\n",
      "50/50 [==============================] - 21s 414ms/step - loss: 3.4674e-06 - val_loss: 7.4652e-04\n",
      "Epoch 48/50\n",
      "50/50 [==============================] - 21s 413ms/step - loss: 3.3364e-06 - val_loss: 9.0178e-04\n",
      "Epoch 49/50\n",
      "50/50 [==============================] - 21s 413ms/step - loss: 3.2467e-06 - val_loss: 4.1301e-04\n",
      "Epoch 50/50\n",
      "50/50 [==============================] - 21s 420ms/step - loss: 2.7839e-06 - val_loss: 4.6461e-04\n"
     ]
    },
    {
     "data": {
      "text/plain": [
       "<keras.callbacks.History at 0x2a41ce85f40>"
      ]
     },
     "execution_count": 34,
     "metadata": {},
     "output_type": "execute_result"
    }
   ],
   "source": [
    "algo.fit(x_train, y_train, validation_data = (x_test,y_test),epochs = 50, batch_size =64, verbose = 1)"
   ]
  },
  {
   "cell_type": "markdown",
   "id": "0196cba1",
   "metadata": {},
   "source": [
    "# prediction"
   ]
  },
  {
   "cell_type": "code",
   "execution_count": 35,
   "id": "047ba101",
   "metadata": {},
   "outputs": [],
   "source": [
    "train_pred=algo.predict(x_train)\n",
    "test_pred=algo.predict(x_test)"
   ]
  },
  {
   "cell_type": "markdown",
   "id": "f1753aab",
   "metadata": {},
   "source": [
    "# transform back to original form"
   ]
  },
  {
   "cell_type": "code",
   "execution_count": 36,
   "id": "67aee67a",
   "metadata": {},
   "outputs": [],
   "source": [
    "train_pred = sc.inverse_transform(train_pred)\n",
    "test_pred = sc.inverse_transform(test_pred)"
   ]
  },
  {
   "cell_type": "markdown",
   "id": "c0c70bb2",
   "metadata": {},
   "source": [
    "# calculate RMSE perfomance metric"
   ]
  },
  {
   "cell_type": "code",
   "execution_count": 37,
   "id": "f4fc068a",
   "metadata": {},
   "outputs": [
    {
     "data": {
      "text/plain": [
       "25.207361289156083"
      ]
     },
     "execution_count": 37,
     "metadata": {},
     "output_type": "execute_result"
    }
   ],
   "source": [
    "import math\n",
    "from sklearn.metrics import mean_squared_error\n",
    "math.sqrt(mean_squared_error(y_train,train_pred))"
   ]
  },
  {
   "cell_type": "code",
   "execution_count": 38,
   "id": "e51d800d",
   "metadata": {},
   "outputs": [
    {
     "data": {
      "text/plain": [
       "347.79988446536777"
      ]
     },
     "execution_count": 38,
     "metadata": {},
     "output_type": "execute_result"
    }
   ],
   "source": [
    "#test data RMSE\n",
    "math.sqrt(mean_squared_error(y_test,test_pred))\n"
   ]
  },
  {
   "cell_type": "code",
   "execution_count": 39,
   "id": "9af3b814",
   "metadata": {},
   "outputs": [
    {
     "data": {
      "image/png": "[encoded data removed]",
      "text/plain": [
       "<Figure size 432x288 with 1 Axes>"
      ]
     },
     "metadata": {
      "needs_background": "light"
     },
     "output_type": "display_data"
    }
   ],
   "source": [
    "look_back = 100\n",
    "trainpredictplot = numpy.empty_like(df1_train)\n",
    "trainpredictplot[:, :] = np.nan\n",
    "trainpredictplot[look_back:len(train_pred)+ look_back, :] = train_pred\n",
    "#shift test prediction for plotting\n",
    "testpredictplot = numpy.empty_like(df1_train)\n",
    "testpredictplot[:, :] = np.nan\n",
    "testpredictplot[len(train_pred)+ (look_back*2)+1:len(df1_train)-1, :] = test_pred\n",
    "#plot baseline and prediction\n",
    "plt.plot(sc.inverse_transform(df1_train))\n",
    "plt.plot(trainpredictplot)\n",
    "plt.plot(testpredictplot)\n",
    "plt.show()"
   ]
  },
  {
   "cell_type": "code",
   "execution_count": 40,
   "id": "d3b57b8f",
   "metadata": {},
   "outputs": [
    {
     "data": {
      "text/plain": [
       "1766"
      ]
     },
     "execution_count": 40,
     "metadata": {},
     "output_type": "execute_result"
    }
   ],
   "source": [
    "len(test_data)"
   ]
  },
  {
   "cell_type": "code",
   "execution_count": 41,
   "id": "1885321d",
   "metadata": {},
   "outputs": [
    {
     "data": {
      "text/plain": [
       "(1, 100)"
      ]
     },
     "execution_count": 41,
     "metadata": {},
     "output_type": "execute_result"
    }
   ],
   "source": [
    "x_input = test_data[1666:].reshape(1,-1)\n",
    "x_input.shape"
   ]
  },
  {
   "cell_type": "code",
   "execution_count": 42,
   "id": "34cfff2f",
   "metadata": {},
   "outputs": [],
   "source": [
    "temp_input = list(x_input)\n",
    "temp_input = temp_input[0].tolist()"
   ]
  },
  {
   "cell_type": "code",
   "execution_count": 43,
   "id": "bb303326",
   "metadata": {},
   "outputs": [
    {
     "name": "stdout",
     "output_type": "stream",
     "text": [
      "[0.2880266]\n",
      "101\n",
      "1 day input [0.77655692 0.7504908  0.75987866 0.73834004 0.7456594  0.73465145\n",
      " 0.57445001 0.55947858 0.52949237 0.5197718  0.55882768 0.5554428\n",
      " 0.61732471 0.66070566 0.62070955 0.58616679 0.59277737 0.58110399\n",
      " 0.58317249 0.59671189 0.58713593 0.56549609 0.57310477 0.58885728\n",
      " 0.57528897 0.55878428 0.56546717 0.54534616 0.53099672 0.56364455\n",
      " 0.56475835 0.57013939 0.55816225 0.54917941 0.53187911 0.52270822\n",
      " 0.5061167  0.49382133 0.51845547 0.51553348 0.49173835 0.4782713\n",
      " 0.49669988 0.51663284 0.53669599 0.55000393 0.54131037 0.55335986\n",
      " 0.54116571 0.54293046 0.54023996 0.54698072 0.56623382 0.55126239\n",
      " 0.54131037 0.53969028 0.56577093 0.54935298 0.53228414 0.52331573\n",
      " 0.5142461  0.50284756 0.49720617 0.50636258 0.49291002 0.48817989\n",
      " 0.50372992 0.32664768 0.31511897 0.31121338 0.30309844 0.28644905\n",
      " 0.27218642 0.28806916 0.27481908 0.28798237 0.28857542 0.29456399\n",
      " 0.2718682  0.26123632 0.24985226 0.25644836 0.2401172  0.25160253\n",
      " 0.27088456 0.26925    0.27510838 0.25576849 0.26486706 0.26901857\n",
      " 0.27059526 0.260325   0.2711594  0.27632345 0.28180575 0.2850604\n",
      " 0.2785077  0.29612623 0.28728803 0.2880266 ]\n",
      "1 day output [[0.28969473]]\n",
      "2 day input [0.7504908  0.75987866 0.73834004 0.7456594  0.73465145 0.57445001\n",
      " 0.55947858 0.52949237 0.5197718  0.55882768 0.5554428  0.61732471\n",
      " 0.66070566 0.62070955 0.58616679 0.59277737 0.58110399 0.58317249\n",
      " 0.59671189 0.58713593 0.56549609 0.57310477 0.58885728 0.57528897\n",
      " 0.55878428 0.56546717 0.54534616 0.53099672 0.56364455 0.56475835\n",
      " 0.57013939 0.55816225 0.54917941 0.53187911 0.52270822 0.5061167\n",
      " 0.49382133 0.51845547 0.51553348 0.49173835 0.4782713  0.49669988\n",
      " 0.51663284 0.53669599 0.55000393 0.54131037 0.55335986 0.54116571\n",
      " 0.54293046 0.54023996 0.54698072 0.56623382 0.55126239 0.54131037\n",
      " 0.53969028 0.56577093 0.54935298 0.53228414 0.52331573 0.5142461\n",
      " 0.50284756 0.49720617 0.50636258 0.49291002 0.48817989 0.50372992\n",
      " 0.32664768 0.31511897 0.31121338 0.30309844 0.28644905 0.27218642\n",
      " 0.28806916 0.27481908 0.28798237 0.28857542 0.29456399 0.2718682\n",
      " 0.26123632 0.24985226 0.25644836 0.2401172  0.25160253 0.27088456\n",
      " 0.26925    0.27510838 0.25576849 0.26486706 0.26901857 0.27059526\n",
      " 0.260325   0.2711594  0.27632345 0.28180575 0.2850604  0.2785077\n",
      " 0.29612623 0.28728803 0.2880266  0.28969473]\n",
      "2 day output [[0.29010922]]\n",
      "3 day input [0.75987866 0.73834004 0.7456594  0.73465145 0.57445001 0.55947858\n",
      " 0.52949237 0.5197718  0.55882768 0.5554428  0.61732471 0.66070566\n",
      " 0.62070955 0.58616679 0.59277737 0.58110399 0.58317249 0.59671189\n",
      " 0.58713593 0.56549609 0.57310477 0.58885728 0.57528897 0.55878428\n",
      " 0.56546717 0.54534616 0.53099672 0.56364455 0.56475835 0.57013939\n",
      " 0.55816225 0.54917941 0.53187911 0.52270822 0.5061167  0.49382133\n",
      " 0.51845547 0.51553348 0.49173835 0.4782713  0.49669988 0.51663284\n",
      " 0.53669599 0.55000393 0.54131037 0.55335986 0.54116571 0.54293046\n",
      " 0.54023996 0.54698072 0.56623382 0.55126239 0.54131037 0.53969028\n",
      " 0.56577093 0.54935298 0.53228414 0.52331573 0.5142461  0.50284756\n",
      " 0.49720617 0.50636258 0.49291002 0.48817989 0.50372992 0.32664768\n",
      " 0.31511897 0.31121338 0.30309844 0.28644905 0.27218642 0.28806916\n",
      " 0.27481908 0.28798237 0.28857542 0.29456399 0.2718682  0.26123632\n",
      " 0.24985226 0.25644836 0.2401172  0.25160253 0.27088456 0.26925\n",
      " 0.27510838 0.25576849 0.26486706 0.26901857 0.27059526 0.260325\n",
      " 0.2711594  0.27632345 0.28180575 0.2850604  0.2785077  0.29612623\n",
      " 0.28728803 0.2880266  0.28969473 0.29010922]\n",
      "3 day output [[0.289865]]\n",
      "4 day input [0.73834004 0.7456594  0.73465145 0.57445001 0.55947858 0.52949237\n",
      " 0.5197718  0.55882768 0.5554428  0.61732471 0.66070566 0.62070955\n",
      " 0.58616679 0.59277737 0.58110399 0.58317249 0.59671189 0.58713593\n",
      " 0.56549609 0.57310477 0.58885728 0.57528897 0.55878428 0.56546717\n",
      " 0.54534616 0.53099672 0.56364455 0.56475835 0.57013939 0.55816225\n",
      " 0.54917941 0.53187911 0.52270822 0.5061167  0.49382133 0.51845547\n",
      " 0.51553348 0.49173835 0.4782713  0.49669988 0.51663284 0.53669599\n",
      " 0.55000393 0.54131037 0.55335986 0.54116571 0.54293046 0.54023996\n",
      " 0.54698072 0.56623382 0.55126239 0.54131037 0.53969028 0.56577093\n",
      " 0.54935298 0.53228414 0.52331573 0.5142461  0.50284756 0.49720617\n",
      " 0.50636258 0.49291002 0.48817989 0.50372992 0.32664768 0.31511897\n",
      " 0.31121338 0.30309844 0.28644905 0.27218642 0.28806916 0.27481908\n",
      " 0.28798237 0.28857542 0.29456399 0.2718682  0.26123632 0.24985226\n",
      " 0.25644836 0.2401172  0.25160253 0.27088456 0.26925    0.27510838\n",
      " 0.25576849 0.26486706 0.26901857 0.27059526 0.260325   0.2711594\n",
      " 0.27632345 0.28180575 0.2850604  0.2785077  0.29612623 0.28728803\n",
      " 0.2880266  0.28969473 0.29010922 0.28986499]\n",
      "4 day output [[0.28933102]]\n",
      "5 day input [0.7456594  0.73465145 0.57445001 0.55947858 0.52949237 0.5197718\n",
      " 0.55882768 0.5554428  0.61732471 0.66070566 0.62070955 0.58616679\n",
      " 0.59277737 0.58110399 0.58317249 0.59671189 0.58713593 0.56549609\n",
      " 0.57310477 0.58885728 0.57528897 0.55878428 0.56546717 0.54534616\n",
      " 0.53099672 0.56364455 0.56475835 0.57013939 0.55816225 0.54917941\n",
      " 0.53187911 0.52270822 0.5061167  0.49382133 0.51845547 0.51553348\n",
      " 0.49173835 0.4782713  0.49669988 0.51663284 0.53669599 0.55000393\n",
      " 0.54131037 0.55335986 0.54116571 0.54293046 0.54023996 0.54698072\n",
      " 0.56623382 0.55126239 0.54131037 0.53969028 0.56577093 0.54935298\n",
      " 0.53228414 0.52331573 0.5142461  0.50284756 0.49720617 0.50636258\n",
      " 0.49291002 0.48817989 0.50372992 0.32664768 0.31511897 0.31121338\n",
      " 0.30309844 0.28644905 0.27218642 0.28806916 0.27481908 0.28798237\n",
      " 0.28857542 0.29456399 0.2718682  0.26123632 0.24985226 0.25644836\n",
      " 0.2401172  0.25160253 0.27088456 0.26925    0.27510838 0.25576849\n",
      " 0.26486706 0.26901857 0.27059526 0.260325   0.2711594  0.27632345\n",
      " 0.28180575 0.2850604  0.2785077  0.29612623 0.28728803 0.2880266\n",
      " 0.28969473 0.29010922 0.28986499 0.28933102]\n",
      "5 day output [[0.2886856]]\n",
      "6 day input [0.73465145 0.57445001 0.55947858 0.52949237 0.5197718  0.55882768\n",
      " 0.5554428  0.61732471 0.66070566 0.62070955 0.58616679 0.59277737\n",
      " 0.58110399 0.58317249 0.59671189 0.58713593 0.56549609 0.57310477\n",
      " 0.58885728 0.57528897 0.55878428 0.56546717 0.54534616 0.53099672\n",
      " 0.56364455 0.56475835 0.57013939 0.55816225 0.54917941 0.53187911\n",
      " 0.52270822 0.5061167  0.49382133 0.51845547 0.51553348 0.49173835\n",
      " 0.4782713  0.49669988 0.51663284 0.53669599 0.55000393 0.54131037\n",
      " 0.55335986 0.54116571 0.54293046 0.54023996 0.54698072 0.56623382\n",
      " 0.55126239 0.54131037 0.53969028 0.56577093 0.54935298 0.53228414\n",
      " 0.52331573 0.5142461  0.50284756 0.49720617 0.50636258 0.49291002\n",
      " 0.48817989 0.50372992 0.32664768 0.31511897 0.31121338 0.30309844\n",
      " 0.28644905 0.27218642 0.28806916 0.27481908 0.28798237 0.28857542\n",
      " 0.29456399 0.2718682  0.26123632 0.24985226 0.25644836 0.2401172\n",
      " 0.25160253 0.27088456 0.26925    0.27510838 0.25576849 0.26486706\n",
      " 0.26901857 0.27059526 0.260325   0.2711594  0.27632345 0.28180575\n",
      " 0.2850604  0.2785077  0.29612623 0.28728803 0.2880266  0.28969473\n",
      " 0.29010922 0.28986499 0.28933102 0.28868559]\n",
      "6 day output [[0.28800505]]\n",
      "7 day input [0.57445001 0.55947858 0.52949237 0.5197718  0.55882768 0.5554428\n",
      " 0.61732471 0.66070566 0.62070955 0.58616679 0.59277737 0.58110399\n",
      " 0.58317249 0.59671189 0.58713593 0.56549609 0.57310477 0.58885728\n",
      " 0.57528897 0.55878428 0.56546717 0.54534616 0.53099672 0.56364455\n",
      " 0.56475835 0.57013939 0.55816225 0.54917941 0.53187911 0.52270822\n",
      " 0.5061167  0.49382133 0.51845547 0.51553348 0.49173835 0.4782713\n",
      " 0.49669988 0.51663284 0.53669599 0.55000393 0.54131037 0.55335986\n",
      " 0.54116571 0.54293046 0.54023996 0.54698072 0.56623382 0.55126239\n",
      " 0.54131037 0.53969028 0.56577093 0.54935298 0.53228414 0.52331573\n",
      " 0.5142461  0.50284756 0.49720617 0.50636258 0.49291002 0.48817989\n",
      " 0.50372992 0.32664768 0.31511897 0.31121338 0.30309844 0.28644905\n",
      " 0.27218642 0.28806916 0.27481908 0.28798237 0.28857542 0.29456399\n",
      " 0.2718682  0.26123632 0.24985226 0.25644836 0.2401172  0.25160253\n",
      " 0.27088456 0.26925    0.27510838 0.25576849 0.26486706 0.26901857\n",
      " 0.27059526 0.260325   0.2711594  0.27632345 0.28180575 0.2850604\n",
      " 0.2785077  0.29612623 0.28728803 0.2880266  0.28969473 0.29010922\n",
      " 0.28986499 0.28933102 0.28868559 0.28800505]\n",
      "7 day output [[0.2873259]]\n",
      "8 day input [0.55947858 0.52949237 0.5197718  0.55882768 0.5554428  0.61732471\n",
      " 0.66070566 0.62070955 0.58616679 0.59277737 0.58110399 0.58317249\n",
      " 0.59671189 0.58713593 0.56549609 0.57310477 0.58885728 0.57528897\n",
      " 0.55878428 0.56546717 0.54534616 0.53099672 0.56364455 0.56475835\n",
      " 0.57013939 0.55816225 0.54917941 0.53187911 0.52270822 0.5061167\n",
      " 0.49382133 0.51845547 0.51553348 0.49173835 0.4782713  0.49669988\n",
      " 0.51663284 0.53669599 0.55000393 0.54131037 0.55335986 0.54116571\n",
      " 0.54293046 0.54023996 0.54698072 0.56623382 0.55126239 0.54131037\n",
      " 0.53969028 0.56577093 0.54935298 0.53228414 0.52331573 0.5142461\n",
      " 0.50284756 0.49720617 0.50636258 0.49291002 0.48817989 0.50372992\n",
      " 0.32664768 0.31511897 0.31121338 0.30309844 0.28644905 0.27218642\n",
      " 0.28806916 0.27481908 0.28798237 0.28857542 0.29456399 0.2718682\n",
      " 0.26123632 0.24985226 0.25644836 0.2401172  0.25160253 0.27088456\n",
      " 0.26925    0.27510838 0.25576849 0.26486706 0.26901857 0.27059526\n",
      " 0.260325   0.2711594  0.27632345 0.28180575 0.2850604  0.2785077\n",
      " 0.29612623 0.28728803 0.2880266  0.28969473 0.29010922 0.28986499\n",
      " 0.28933102 0.28868559 0.28800505 0.28732589]\n",
      "8 day output [[0.2866717]]\n",
      "9 day input [0.52949237 0.5197718  0.55882768 0.5554428  0.61732471 0.66070566\n",
      " 0.62070955 0.58616679 0.59277737 0.58110399 0.58317249 0.59671189\n",
      " 0.58713593 0.56549609 0.57310477 0.58885728 0.57528897 0.55878428\n",
      " 0.56546717 0.54534616 0.53099672 0.56364455 0.56475835 0.57013939\n",
      " 0.55816225 0.54917941 0.53187911 0.52270822 0.5061167  0.49382133\n",
      " 0.51845547 0.51553348 0.49173835 0.4782713  0.49669988 0.51663284\n",
      " 0.53669599 0.55000393 0.54131037 0.55335986 0.54116571 0.54293046\n",
      " 0.54023996 0.54698072 0.56623382 0.55126239 0.54131037 0.53969028\n",
      " 0.56577093 0.54935298 0.53228414 0.52331573 0.5142461  0.50284756\n",
      " 0.49720617 0.50636258 0.49291002 0.48817989 0.50372992 0.32664768\n",
      " 0.31511897 0.31121338 0.30309844 0.28644905 0.27218642 0.28806916\n",
      " 0.27481908 0.28798237 0.28857542 0.29456399 0.2718682  0.26123632\n",
      " 0.24985226 0.25644836 0.2401172  0.25160253 0.27088456 0.26925\n",
      " 0.27510838 0.25576849 0.26486706 0.26901857 0.27059526 0.260325\n",
      " 0.2711594  0.27632345 0.28180575 0.2850604  0.2785077  0.29612623\n",
      " 0.28728803 0.2880266  0.28969473 0.29010922 0.28986499 0.28933102\n",
      " 0.28868559 0.28800505 0.28732589 0.2866717 ]\n",
      "9 day output [[0.28606015]]\n",
      "10 day input [0.5197718  0.55882768 0.5554428  0.61732471 0.66070566 0.62070955\n",
      " 0.58616679 0.59277737 0.58110399 0.58317249 0.59671189 0.58713593\n",
      " 0.56549609 0.57310477 0.58885728 0.57528897 0.55878428 0.56546717\n",
      " 0.54534616 0.53099672 0.56364455 0.56475835 0.57013939 0.55816225\n",
      " 0.54917941 0.53187911 0.52270822 0.5061167  0.49382133 0.51845547\n",
      " 0.51553348 0.49173835 0.4782713  0.49669988 0.51663284 0.53669599\n",
      " 0.55000393 0.54131037 0.55335986 0.54116571 0.54293046 0.54023996\n",
      " 0.54698072 0.56623382 0.55126239 0.54131037 0.53969028 0.56577093\n",
      " 0.54935298 0.53228414 0.52331573 0.5142461  0.50284756 0.49720617\n",
      " 0.50636258 0.49291002 0.48817989 0.50372992 0.32664768 0.31511897\n",
      " 0.31121338 0.30309844 0.28644905 0.27218642 0.28806916 0.27481908\n",
      " 0.28798237 0.28857542 0.29456399 0.2718682  0.26123632 0.24985226\n",
      " 0.25644836 0.2401172  0.25160253 0.27088456 0.26925    0.27510838\n",
      " 0.25576849 0.26486706 0.26901857 0.27059526 0.260325   0.2711594\n",
      " 0.27632345 0.28180575 0.2850604  0.2785077  0.29612623 0.28728803\n",
      " 0.2880266  0.28969473 0.29010922 0.28986499 0.28933102 0.28868559\n",
      " 0.28800505 0.28732589 0.2866717  0.28606015]\n",
      "10 day output [[0.2855033]]\n",
      "11 day input [0.55882768 0.5554428  0.61732471 0.66070566 0.62070955 0.58616679\n",
      " 0.59277737 0.58110399 0.58317249 0.59671189 0.58713593 0.56549609\n",
      " 0.57310477 0.58885728 0.57528897 0.55878428 0.56546717 0.54534616\n",
      " 0.53099672 0.56364455 0.56475835 0.57013939 0.55816225 0.54917941\n",
      " 0.53187911 0.52270822 0.5061167  0.49382133 0.51845547 0.51553348\n",
      " 0.49173835 0.4782713  0.49669988 0.51663284 0.53669599 0.55000393\n",
      " 0.54131037 0.55335986 0.54116571 0.54293046 0.54023996 0.54698072\n",
      " 0.56623382 0.55126239 0.54131037 0.53969028 0.56577093 0.54935298\n",
      " 0.53228414 0.52331573 0.5142461  0.50284756 0.49720617 0.50636258\n",
      " 0.49291002 0.48817989 0.50372992 0.32664768 0.31511897 0.31121338\n",
      " 0.30309844 0.28644905 0.27218642 0.28806916 0.27481908 0.28798237\n",
      " 0.28857542 0.29456399 0.2718682  0.26123632 0.24985226 0.25644836\n",
      " 0.2401172  0.25160253 0.27088456 0.26925    0.27510838 0.25576849\n",
      " 0.26486706 0.26901857 0.27059526 0.260325   0.2711594  0.27632345\n",
      " 0.28180575 0.2850604  0.2785077  0.29612623 0.28728803 0.2880266\n",
      " 0.28969473 0.29010922 0.28986499 0.28933102 0.28868559 0.28800505\n",
      " 0.28732589 0.2866717  0.28606015 0.2855033 ]\n",
      "11 day output [[0.28500652]]\n",
      "12 day input [0.5554428  0.61732471 0.66070566 0.62070955 0.58616679 0.59277737\n",
      " 0.58110399 0.58317249 0.59671189 0.58713593 0.56549609 0.57310477\n",
      " 0.58885728 0.57528897 0.55878428 0.56546717 0.54534616 0.53099672\n",
      " 0.56364455 0.56475835 0.57013939 0.55816225 0.54917941 0.53187911\n",
      " 0.52270822 0.5061167  0.49382133 0.51845547 0.51553348 0.49173835\n",
      " 0.4782713  0.49669988 0.51663284 0.53669599 0.55000393 0.54131037\n",
      " 0.55335986 0.54116571 0.54293046 0.54023996 0.54698072 0.56623382\n",
      " 0.55126239 0.54131037 0.53969028 0.56577093 0.54935298 0.53228414\n",
      " 0.52331573 0.5142461  0.50284756 0.49720617 0.50636258 0.49291002\n",
      " 0.48817989 0.50372992 0.32664768 0.31511897 0.31121338 0.30309844\n",
      " 0.28644905 0.27218642 0.28806916 0.27481908 0.28798237 0.28857542\n",
      " 0.29456399 0.2718682  0.26123632 0.24985226 0.25644836 0.2401172\n",
      " 0.25160253 0.27088456 0.26925    0.27510838 0.25576849 0.26486706\n",
      " 0.26901857 0.27059526 0.260325   0.2711594  0.27632345 0.28180575\n",
      " 0.2850604  0.2785077  0.29612623 0.28728803 0.2880266  0.28969473\n",
      " 0.29010922 0.28986499 0.28933102 0.28868559 0.28800505 0.28732589\n",
      " 0.2866717  0.28606015 0.2855033  0.28500652]\n",
      "12 day output [[0.28456888]]\n",
      "13 day input [0.61732471 0.66070566 0.62070955 0.58616679 0.59277737 0.58110399\n",
      " 0.58317249 0.59671189 0.58713593 0.56549609 0.57310477 0.58885728\n",
      " 0.57528897 0.55878428 0.56546717 0.54534616 0.53099672 0.56364455\n",
      " 0.56475835 0.57013939 0.55816225 0.54917941 0.53187911 0.52270822\n",
      " 0.5061167  0.49382133 0.51845547 0.51553348 0.49173835 0.4782713\n",
      " 0.49669988 0.51663284 0.53669599 0.55000393 0.54131037 0.55335986\n",
      " 0.54116571 0.54293046 0.54023996 0.54698072 0.56623382 0.55126239\n",
      " 0.54131037 0.53969028 0.56577093 0.54935298 0.53228414 0.52331573\n",
      " 0.5142461  0.50284756 0.49720617 0.50636258 0.49291002 0.48817989\n",
      " 0.50372992 0.32664768 0.31511897 0.31121338 0.30309844 0.28644905\n",
      " 0.27218642 0.28806916 0.27481908 0.28798237 0.28857542 0.29456399\n",
      " 0.2718682  0.26123632 0.24985226 0.25644836 0.2401172  0.25160253\n",
      " 0.27088456 0.26925    0.27510838 0.25576849 0.26486706 0.26901857\n",
      " 0.27059526 0.260325   0.2711594  0.27632345 0.28180575 0.2850604\n",
      " 0.2785077  0.29612623 0.28728803 0.2880266  0.28969473 0.29010922\n",
      " 0.28986499 0.28933102 0.28868559 0.28800505 0.28732589 0.2866717\n",
      " 0.28606015 0.2855033  0.28500652 0.28456888]\n",
      "13 day output [[0.28418458]]\n",
      "14 day input [0.66070566 0.62070955 0.58616679 0.59277737 0.58110399 0.58317249\n",
      " 0.59671189 0.58713593 0.56549609 0.57310477 0.58885728 0.57528897\n",
      " 0.55878428 0.56546717 0.54534616 0.53099672 0.56364455 0.56475835\n",
      " 0.57013939 0.55816225 0.54917941 0.53187911 0.52270822 0.5061167\n",
      " 0.49382133 0.51845547 0.51553348 0.49173835 0.4782713  0.49669988\n",
      " 0.51663284 0.53669599 0.55000393 0.54131037 0.55335986 0.54116571\n",
      " 0.54293046 0.54023996 0.54698072 0.56623382 0.55126239 0.54131037\n",
      " 0.53969028 0.56577093 0.54935298 0.53228414 0.52331573 0.5142461\n",
      " 0.50284756 0.49720617 0.50636258 0.49291002 0.48817989 0.50372992\n",
      " 0.32664768 0.31511897 0.31121338 0.30309844 0.28644905 0.27218642\n",
      " 0.28806916 0.27481908 0.28798237 0.28857542 0.29456399 0.2718682\n",
      " 0.26123632 0.24985226 0.25644836 0.2401172  0.25160253 0.27088456\n",
      " 0.26925    0.27510838 0.25576849 0.26486706 0.26901857 0.27059526\n",
      " 0.260325   0.2711594  0.27632345 0.28180575 0.2850604  0.2785077\n",
      " 0.29612623 0.28728803 0.2880266  0.28969473 0.29010922 0.28986499\n",
      " 0.28933102 0.28868559 0.28800505 0.28732589 0.2866717  0.28606015\n",
      " 0.2855033  0.28500652 0.28456888 0.28418458]\n",
      "14 day output [[0.28384468]]\n",
      "15 day input [0.62070955 0.58616679 0.59277737 0.58110399 0.58317249 0.59671189\n",
      " 0.58713593 0.56549609 0.57310477 0.58885728 0.57528897 0.55878428\n",
      " 0.56546717 0.54534616 0.53099672 0.56364455 0.56475835 0.57013939\n",
      " 0.55816225 0.54917941 0.53187911 0.52270822 0.5061167  0.49382133\n",
      " 0.51845547 0.51553348 0.49173835 0.4782713  0.49669988 0.51663284\n",
      " 0.53669599 0.55000393 0.54131037 0.55335986 0.54116571 0.54293046\n",
      " 0.54023996 0.54698072 0.56623382 0.55126239 0.54131037 0.53969028\n",
      " 0.56577093 0.54935298 0.53228414 0.52331573 0.5142461  0.50284756\n",
      " 0.49720617 0.50636258 0.49291002 0.48817989 0.50372992 0.32664768\n",
      " 0.31511897 0.31121338 0.30309844 0.28644905 0.27218642 0.28806916\n",
      " 0.27481908 0.28798237 0.28857542 0.29456399 0.2718682  0.26123632\n",
      " 0.24985226 0.25644836 0.2401172  0.25160253 0.27088456 0.26925\n",
      " 0.27510838 0.25576849 0.26486706 0.26901857 0.27059526 0.260325\n",
      " 0.2711594  0.27632345 0.28180575 0.2850604  0.2785077  0.29612623\n",
      " 0.28728803 0.2880266  0.28969473 0.29010922 0.28986499 0.28933102\n",
      " 0.28868559 0.28800505 0.28732589 0.2866717  0.28606015 0.2855033\n",
      " 0.28500652 0.28456888 0.28418458 0.28384468]\n",
      "15 day output [[0.2835382]]\n",
      "16 day input [0.58616679 0.59277737 0.58110399 0.58317249 0.59671189 0.58713593\n",
      " 0.56549609 0.57310477 0.58885728 0.57528897 0.55878428 0.56546717\n",
      " 0.54534616 0.53099672 0.56364455 0.56475835 0.57013939 0.55816225\n",
      " 0.54917941 0.53187911 0.52270822 0.5061167  0.49382133 0.51845547\n",
      " 0.51553348 0.49173835 0.4782713  0.49669988 0.51663284 0.53669599\n",
      " 0.55000393 0.54131037 0.55335986 0.54116571 0.54293046 0.54023996\n",
      " 0.54698072 0.56623382 0.55126239 0.54131037 0.53969028 0.56577093\n",
      " 0.54935298 0.53228414 0.52331573 0.5142461  0.50284756 0.49720617\n",
      " 0.50636258 0.49291002 0.48817989 0.50372992 0.32664768 0.31511897\n",
      " 0.31121338 0.30309844 0.28644905 0.27218642 0.28806916 0.27481908\n",
      " 0.28798237 0.28857542 0.29456399 0.2718682  0.26123632 0.24985226\n",
      " 0.25644836 0.2401172  0.25160253 0.27088456 0.26925    0.27510838\n",
      " 0.25576849 0.26486706 0.26901857 0.27059526 0.260325   0.2711594\n",
      " 0.27632345 0.28180575 0.2850604  0.2785077  0.29612623 0.28728803\n",
      " 0.2880266  0.28969473 0.29010922 0.28986499 0.28933102 0.28868559\n",
      " 0.28800505 0.28732589 0.2866717  0.28606015 0.2855033  0.28500652\n",
      " 0.28456888 0.28418458 0.28384468 0.28353819]\n",
      "16 day output [[0.28325438]]\n",
      "17 day input [0.59277737 0.58110399 0.58317249 0.59671189 0.58713593 0.56549609\n",
      " 0.57310477 0.58885728 0.57528897 0.55878428 0.56546717 0.54534616\n",
      " 0.53099672 0.56364455 0.56475835 0.57013939 0.55816225 0.54917941\n",
      " 0.53187911 0.52270822 0.5061167  0.49382133 0.51845547 0.51553348\n",
      " 0.49173835 0.4782713  0.49669988 0.51663284 0.53669599 0.55000393\n",
      " 0.54131037 0.55335986 0.54116571 0.54293046 0.54023996 0.54698072\n",
      " 0.56623382 0.55126239 0.54131037 0.53969028 0.56577093 0.54935298\n",
      " 0.53228414 0.52331573 0.5142461  0.50284756 0.49720617 0.50636258\n",
      " 0.49291002 0.48817989 0.50372992 0.32664768 0.31511897 0.31121338\n",
      " 0.30309844 0.28644905 0.27218642 0.28806916 0.27481908 0.28798237\n",
      " 0.28857542 0.29456399 0.2718682  0.26123632 0.24985226 0.25644836\n",
      " 0.2401172  0.25160253 0.27088456 0.26925    0.27510838 0.25576849\n",
      " 0.26486706 0.26901857 0.27059526 0.260325   0.2711594  0.27632345\n",
      " 0.28180575 0.2850604  0.2785077  0.29612623 0.28728803 0.2880266\n",
      " 0.28969473 0.29010922 0.28986499 0.28933102 0.28868559 0.28800505\n",
      " 0.28732589 0.2866717  0.28606015 0.2855033  0.28500652 0.28456888\n",
      " 0.28418458 0.28384468 0.28353819 0.28325438]\n",
      "17 day output [[0.28298253]]\n",
      "18 day input [0.58110399 0.58317249 0.59671189 0.58713593 0.56549609 0.57310477\n",
      " 0.58885728 0.57528897 0.55878428 0.56546717 0.54534616 0.53099672\n",
      " 0.56364455 0.56475835 0.57013939 0.55816225 0.54917941 0.53187911\n",
      " 0.52270822 0.5061167  0.49382133 0.51845547 0.51553348 0.49173835\n",
      " 0.4782713  0.49669988 0.51663284 0.53669599 0.55000393 0.54131037\n",
      " 0.55335986 0.54116571 0.54293046 0.54023996 0.54698072 0.56623382\n",
      " 0.55126239 0.54131037 0.53969028 0.56577093 0.54935298 0.53228414\n",
      " 0.52331573 0.5142461  0.50284756 0.49720617 0.50636258 0.49291002\n",
      " 0.48817989 0.50372992 0.32664768 0.31511897 0.31121338 0.30309844\n",
      " 0.28644905 0.27218642 0.28806916 0.27481908 0.28798237 0.28857542\n",
      " 0.29456399 0.2718682  0.26123632 0.24985226 0.25644836 0.2401172\n",
      " 0.25160253 0.27088456 0.26925    0.27510838 0.25576849 0.26486706\n",
      " 0.26901857 0.27059526 0.260325   0.2711594  0.27632345 0.28180575\n",
      " 0.2850604  0.2785077  0.29612623 0.28728803 0.2880266  0.28969473\n",
      " 0.29010922 0.28986499 0.28933102 0.28868559 0.28800505 0.28732589\n",
      " 0.2866717  0.28606015 0.2855033  0.28500652 0.28456888 0.28418458\n",
      " 0.28384468 0.28353819 0.28325438 0.28298253]\n",
      "18 day output [[0.28271392]]\n",
      "19 day input [0.58317249 0.59671189 0.58713593 0.56549609 0.57310477 0.58885728\n",
      " 0.57528897 0.55878428 0.56546717 0.54534616 0.53099672 0.56364455\n",
      " 0.56475835 0.57013939 0.55816225 0.54917941 0.53187911 0.52270822\n",
      " 0.5061167  0.49382133 0.51845547 0.51553348 0.49173835 0.4782713\n",
      " 0.49669988 0.51663284 0.53669599 0.55000393 0.54131037 0.55335986\n",
      " 0.54116571 0.54293046 0.54023996 0.54698072 0.56623382 0.55126239\n",
      " 0.54131037 0.53969028 0.56577093 0.54935298 0.53228414 0.52331573\n",
      " 0.5142461  0.50284756 0.49720617 0.50636258 0.49291002 0.48817989\n",
      " 0.50372992 0.32664768 0.31511897 0.31121338 0.30309844 0.28644905\n",
      " 0.27218642 0.28806916 0.27481908 0.28798237 0.28857542 0.29456399\n",
      " 0.2718682  0.26123632 0.24985226 0.25644836 0.2401172  0.25160253\n",
      " 0.27088456 0.26925    0.27510838 0.25576849 0.26486706 0.26901857\n",
      " 0.27059526 0.260325   0.2711594  0.27632345 0.28180575 0.2850604\n",
      " 0.2785077  0.29612623 0.28728803 0.2880266  0.28969473 0.29010922\n",
      " 0.28986499 0.28933102 0.28868559 0.28800505 0.28732589 0.2866717\n",
      " 0.28606015 0.2855033  0.28500652 0.28456888 0.28418458 0.28384468\n",
      " 0.28353819 0.28325438 0.28298253 0.28271392]\n",
      "19 day output [[0.2824411]]\n",
      "20 day input [0.59671189 0.58713593 0.56549609 0.57310477 0.58885728 0.57528897\n",
      " 0.55878428 0.56546717 0.54534616 0.53099672 0.56364455 0.56475835\n",
      " 0.57013939 0.55816225 0.54917941 0.53187911 0.52270822 0.5061167\n",
      " 0.49382133 0.51845547 0.51553348 0.49173835 0.4782713  0.49669988\n",
      " 0.51663284 0.53669599 0.55000393 0.54131037 0.55335986 0.54116571\n",
      " 0.54293046 0.54023996 0.54698072 0.56623382 0.55126239 0.54131037\n",
      " 0.53969028 0.56577093 0.54935298 0.53228414 0.52331573 0.5142461\n",
      " 0.50284756 0.49720617 0.50636258 0.49291002 0.48817989 0.50372992\n",
      " 0.32664768 0.31511897 0.31121338 0.30309844 0.28644905 0.27218642\n",
      " 0.28806916 0.27481908 0.28798237 0.28857542 0.29456399 0.2718682\n",
      " 0.26123632 0.24985226 0.25644836 0.2401172  0.25160253 0.27088456\n",
      " 0.26925    0.27510838 0.25576849 0.26486706 0.26901857 0.27059526\n",
      " 0.260325   0.2711594  0.27632345 0.28180575 0.2850604  0.2785077\n",
      " 0.29612623 0.28728803 0.2880266  0.28969473 0.29010922 0.28986499\n",
      " 0.28933102 0.28868559 0.28800505 0.28732589 0.2866717  0.28606015\n",
      " 0.2855033  0.28500652 0.28456888 0.28418458 0.28384468 0.28353819\n",
      " 0.28325438 0.28298253 0.28271392 0.28244111]\n",
      "20 day output [[0.28215885]]\n",
      "21 day input [0.58713593 0.56549609 0.57310477 0.58885728 0.57528897 0.55878428\n",
      " 0.56546717 0.54534616 0.53099672 0.56364455 0.56475835 0.57013939\n",
      " 0.55816225 0.54917941 0.53187911 0.52270822 0.5061167  0.49382133\n",
      " 0.51845547 0.51553348 0.49173835 0.4782713  0.49669988 0.51663284\n",
      " 0.53669599 0.55000393 0.54131037 0.55335986 0.54116571 0.54293046\n",
      " 0.54023996 0.54698072 0.56623382 0.55126239 0.54131037 0.53969028\n",
      " 0.56577093 0.54935298 0.53228414 0.52331573 0.5142461  0.50284756\n",
      " 0.49720617 0.50636258 0.49291002 0.48817989 0.50372992 0.32664768\n",
      " 0.31511897 0.31121338 0.30309844 0.28644905 0.27218642 0.28806916\n",
      " 0.27481908 0.28798237 0.28857542 0.29456399 0.2718682  0.26123632\n",
      " 0.24985226 0.25644836 0.2401172  0.25160253 0.27088456 0.26925\n",
      " 0.27510838 0.25576849 0.26486706 0.26901857 0.27059526 0.260325\n",
      " 0.2711594  0.27632345 0.28180575 0.2850604  0.2785077  0.29612623\n",
      " 0.28728803 0.2880266  0.28969473 0.29010922 0.28986499 0.28933102\n",
      " 0.28868559 0.28800505 0.28732589 0.2866717  0.28606015 0.2855033\n",
      " 0.28500652 0.28456888 0.28418458 0.28384468 0.28353819 0.28325438\n",
      " 0.28298253 0.28271392 0.28244111 0.28215885]\n",
      "21 day output [[0.28186363]]\n",
      "22 day input [0.56549609 0.57310477 0.58885728 0.57528897 0.55878428 0.56546717\n",
      " 0.54534616 0.53099672 0.56364455 0.56475835 0.57013939 0.55816225\n",
      " 0.54917941 0.53187911 0.52270822 0.5061167  0.49382133 0.51845547\n",
      " 0.51553348 0.49173835 0.4782713  0.49669988 0.51663284 0.53669599\n",
      " 0.55000393 0.54131037 0.55335986 0.54116571 0.54293046 0.54023996\n",
      " 0.54698072 0.56623382 0.55126239 0.54131037 0.53969028 0.56577093\n",
      " 0.54935298 0.53228414 0.52331573 0.5142461  0.50284756 0.49720617\n",
      " 0.50636258 0.49291002 0.48817989 0.50372992 0.32664768 0.31511897\n",
      " 0.31121338 0.30309844 0.28644905 0.27218642 0.28806916 0.27481908\n",
      " 0.28798237 0.28857542 0.29456399 0.2718682  0.26123632 0.24985226\n",
      " 0.25644836 0.2401172  0.25160253 0.27088456 0.26925    0.27510838\n",
      " 0.25576849 0.26486706 0.26901857 0.27059526 0.260325   0.2711594\n",
      " 0.27632345 0.28180575 0.2850604  0.2785077  0.29612623 0.28728803\n",
      " 0.2880266  0.28969473 0.29010922 0.28986499 0.28933102 0.28868559\n",
      " 0.28800505 0.28732589 0.2866717  0.28606015 0.2855033  0.28500652\n",
      " 0.28456888 0.28418458 0.28384468 0.28353819 0.28325438 0.28298253\n",
      " 0.28271392 0.28244111 0.28215885 0.28186363]\n",
      "22 day output [[0.28155378]]\n",
      "23 day input [0.57310477 0.58885728 0.57528897 0.55878428 0.56546717 0.54534616\n",
      " 0.53099672 0.56364455 0.56475835 0.57013939 0.55816225 0.54917941\n",
      " 0.53187911 0.52270822 0.5061167  0.49382133 0.51845547 0.51553348\n",
      " 0.49173835 0.4782713  0.49669988 0.51663284 0.53669599 0.55000393\n",
      " 0.54131037 0.55335986 0.54116571 0.54293046 0.54023996 0.54698072\n",
      " 0.56623382 0.55126239 0.54131037 0.53969028 0.56577093 0.54935298\n",
      " 0.53228414 0.52331573 0.5142461  0.50284756 0.49720617 0.50636258\n",
      " 0.49291002 0.48817989 0.50372992 0.32664768 0.31511897 0.31121338\n",
      " 0.30309844 0.28644905 0.27218642 0.28806916 0.27481908 0.28798237\n",
      " 0.28857542 0.29456399 0.2718682  0.26123632 0.24985226 0.25644836\n",
      " 0.2401172  0.25160253 0.27088456 0.26925    0.27510838 0.25576849\n",
      " 0.26486706 0.26901857 0.27059526 0.260325   0.2711594  0.27632345\n",
      " 0.28180575 0.2850604  0.2785077  0.29612623 0.28728803 0.2880266\n",
      " 0.28969473 0.29010922 0.28986499 0.28933102 0.28868559 0.28800505\n",
      " 0.28732589 0.2866717  0.28606015 0.2855033  0.28500652 0.28456888\n",
      " 0.28418458 0.28384468 0.28353819 0.28325438 0.28298253 0.28271392\n",
      " 0.28244111 0.28215885 0.28186363 0.28155378]\n",
      "23 day output [[0.2812287]]\n",
      "24 day input [0.58885728 0.57528897 0.55878428 0.56546717 0.54534616 0.53099672\n",
      " 0.56364455 0.56475835 0.57013939 0.55816225 0.54917941 0.53187911\n",
      " 0.52270822 0.5061167  0.49382133 0.51845547 0.51553348 0.49173835\n",
      " 0.4782713  0.49669988 0.51663284 0.53669599 0.55000393 0.54131037\n",
      " 0.55335986 0.54116571 0.54293046 0.54023996 0.54698072 0.56623382\n",
      " 0.55126239 0.54131037 0.53969028 0.56577093 0.54935298 0.53228414\n",
      " 0.52331573 0.5142461  0.50284756 0.49720617 0.50636258 0.49291002\n",
      " 0.48817989 0.50372992 0.32664768 0.31511897 0.31121338 0.30309844\n",
      " 0.28644905 0.27218642 0.28806916 0.27481908 0.28798237 0.28857542\n",
      " 0.29456399 0.2718682  0.26123632 0.24985226 0.25644836 0.2401172\n",
      " 0.25160253 0.27088456 0.26925    0.27510838 0.25576849 0.26486706\n",
      " 0.26901857 0.27059526 0.260325   0.2711594  0.27632345 0.28180575\n",
      " 0.2850604  0.2785077  0.29612623 0.28728803 0.2880266  0.28969473\n",
      " 0.29010922 0.28986499 0.28933102 0.28868559 0.28800505 0.28732589\n",
      " 0.2866717  0.28606015 0.2855033  0.28500652 0.28456888 0.28418458\n",
      " 0.28384468 0.28353819 0.28325438 0.28298253 0.28271392 0.28244111\n",
      " 0.28215885 0.28186363 0.28155378 0.28122869]\n",
      "24 day output [[0.28088927]]\n",
      "25 day input [0.57528897 0.55878428 0.56546717 0.54534616 0.53099672 0.56364455\n",
      " 0.56475835 0.57013939 0.55816225 0.54917941 0.53187911 0.52270822\n",
      " 0.5061167  0.49382133 0.51845547 0.51553348 0.49173835 0.4782713\n",
      " 0.49669988 0.51663284 0.53669599 0.55000393 0.54131037 0.55335986\n",
      " 0.54116571 0.54293046 0.54023996 0.54698072 0.56623382 0.55126239\n",
      " 0.54131037 0.53969028 0.56577093 0.54935298 0.53228414 0.52331573\n",
      " 0.5142461  0.50284756 0.49720617 0.50636258 0.49291002 0.48817989\n",
      " 0.50372992 0.32664768 0.31511897 0.31121338 0.30309844 0.28644905\n",
      " 0.27218642 0.28806916 0.27481908 0.28798237 0.28857542 0.29456399\n",
      " 0.2718682  0.26123632 0.24985226 0.25644836 0.2401172  0.25160253\n",
      " 0.27088456 0.26925    0.27510838 0.25576849 0.26486706 0.26901857\n",
      " 0.27059526 0.260325   0.2711594  0.27632345 0.28180575 0.2850604\n",
      " 0.2785077  0.29612623 0.28728803 0.2880266  0.28969473 0.29010922\n",
      " 0.28986499 0.28933102 0.28868559 0.28800505 0.28732589 0.2866717\n",
      " 0.28606015 0.2855033  0.28500652 0.28456888 0.28418458 0.28384468\n",
      " 0.28353819 0.28325438 0.28298253 0.28271392 0.28244111 0.28215885\n",
      " 0.28186363 0.28155378 0.28122869 0.28088927]\n",
      "25 day output [[0.2805371]]\n",
      "26 day input [0.55878428 0.56546717 0.54534616 0.53099672 0.56364455 0.56475835\n",
      " 0.57013939 0.55816225 0.54917941 0.53187911 0.52270822 0.5061167\n",
      " 0.49382133 0.51845547 0.51553348 0.49173835 0.4782713  0.49669988\n",
      " 0.51663284 0.53669599 0.55000393 0.54131037 0.55335986 0.54116571\n",
      " 0.54293046 0.54023996 0.54698072 0.56623382 0.55126239 0.54131037\n",
      " 0.53969028 0.56577093 0.54935298 0.53228414 0.52331573 0.5142461\n",
      " 0.50284756 0.49720617 0.50636258 0.49291002 0.48817989 0.50372992\n",
      " 0.32664768 0.31511897 0.31121338 0.30309844 0.28644905 0.27218642\n",
      " 0.28806916 0.27481908 0.28798237 0.28857542 0.29456399 0.2718682\n",
      " 0.26123632 0.24985226 0.25644836 0.2401172  0.25160253 0.27088456\n",
      " 0.26925    0.27510838 0.25576849 0.26486706 0.26901857 0.27059526\n",
      " 0.260325   0.2711594  0.27632345 0.28180575 0.2850604  0.2785077\n",
      " 0.29612623 0.28728803 0.2880266  0.28969473 0.29010922 0.28986499\n",
      " 0.28933102 0.28868559 0.28800505 0.28732589 0.2866717  0.28606015\n",
      " 0.2855033  0.28500652 0.28456888 0.28418458 0.28384468 0.28353819\n",
      " 0.28325438 0.28298253 0.28271392 0.28244111 0.28215885 0.28186363\n",
      " 0.28155378 0.28122869 0.28088927 0.2805371 ]\n",
      "26 day output [[0.28017437]]\n",
      "27 day input [0.56546717 0.54534616 0.53099672 0.56364455 0.56475835 0.57013939\n",
      " 0.55816225 0.54917941 0.53187911 0.52270822 0.5061167  0.49382133\n",
      " 0.51845547 0.51553348 0.49173835 0.4782713  0.49669988 0.51663284\n",
      " 0.53669599 0.55000393 0.54131037 0.55335986 0.54116571 0.54293046\n",
      " 0.54023996 0.54698072 0.56623382 0.55126239 0.54131037 0.53969028\n",
      " 0.56577093 0.54935298 0.53228414 0.52331573 0.5142461  0.50284756\n",
      " 0.49720617 0.50636258 0.49291002 0.48817989 0.50372992 0.32664768\n",
      " 0.31511897 0.31121338 0.30309844 0.28644905 0.27218642 0.28806916\n",
      " 0.27481908 0.28798237 0.28857542 0.29456399 0.2718682  0.26123632\n",
      " 0.24985226 0.25644836 0.2401172  0.25160253 0.27088456 0.26925\n",
      " 0.27510838 0.25576849 0.26486706 0.26901857 0.27059526 0.260325\n",
      " 0.2711594  0.27632345 0.28180575 0.2850604  0.2785077  0.29612623\n",
      " 0.28728803 0.2880266  0.28969473 0.29010922 0.28986499 0.28933102\n",
      " 0.28868559 0.28800505 0.28732589 0.2866717  0.28606015 0.2855033\n",
      " 0.28500652 0.28456888 0.28418458 0.28384468 0.28353819 0.28325438\n",
      " 0.28298253 0.28271392 0.28244111 0.28215885 0.28186363 0.28155378\n",
      " 0.28122869 0.28088927 0.2805371  0.28017437]\n",
      "27 day output [[0.27980343]]\n",
      "28 day input [0.54534616 0.53099672 0.56364455 0.56475835 0.57013939 0.55816225\n",
      " 0.54917941 0.53187911 0.52270822 0.5061167  0.49382133 0.51845547\n",
      " 0.51553348 0.49173835 0.4782713  0.49669988 0.51663284 0.53669599\n",
      " 0.55000393 0.54131037 0.55335986 0.54116571 0.54293046 0.54023996\n",
      " 0.54698072 0.56623382 0.55126239 0.54131037 0.53969028 0.56577093\n",
      " 0.54935298 0.53228414 0.52331573 0.5142461  0.50284756 0.49720617\n",
      " 0.50636258 0.49291002 0.48817989 0.50372992 0.32664768 0.31511897\n",
      " 0.31121338 0.30309844 0.28644905 0.27218642 0.28806916 0.27481908\n",
      " 0.28798237 0.28857542 0.29456399 0.2718682  0.26123632 0.24985226\n",
      " 0.25644836 0.2401172  0.25160253 0.27088456 0.26925    0.27510838\n",
      " 0.25576849 0.26486706 0.26901857 0.27059526 0.260325   0.2711594\n",
      " 0.27632345 0.28180575 0.2850604  0.2785077  0.29612623 0.28728803\n",
      " 0.2880266  0.28969473 0.29010922 0.28986499 0.28933102 0.28868559\n",
      " 0.28800505 0.28732589 0.2866717  0.28606015 0.2855033  0.28500652\n",
      " 0.28456888 0.28418458 0.28384468 0.28353819 0.28325438 0.28298253\n",
      " 0.28271392 0.28244111 0.28215885 0.28186363 0.28155378 0.28122869\n",
      " 0.28088927 0.2805371  0.28017437 0.27980343]\n",
      "28 day output [[0.27942672]]\n",
      "29 day input [0.53099672 0.56364455 0.56475835 0.57013939 0.55816225 0.54917941\n",
      " 0.53187911 0.52270822 0.5061167  0.49382133 0.51845547 0.51553348\n",
      " 0.49173835 0.4782713  0.49669988 0.51663284 0.53669599 0.55000393\n",
      " 0.54131037 0.55335986 0.54116571 0.54293046 0.54023996 0.54698072\n",
      " 0.56623382 0.55126239 0.54131037 0.53969028 0.56577093 0.54935298\n",
      " 0.53228414 0.52331573 0.5142461  0.50284756 0.49720617 0.50636258\n",
      " 0.49291002 0.48817989 0.50372992 0.32664768 0.31511897 0.31121338\n",
      " 0.30309844 0.28644905 0.27218642 0.28806916 0.27481908 0.28798237\n",
      " 0.28857542 0.29456399 0.2718682  0.26123632 0.24985226 0.25644836\n",
      " 0.2401172  0.25160253 0.27088456 0.26925    0.27510838 0.25576849\n",
      " 0.26486706 0.26901857 0.27059526 0.260325   0.2711594  0.27632345\n",
      " 0.28180575 0.2850604  0.2785077  0.29612623 0.28728803 0.2880266\n",
      " 0.28969473 0.29010922 0.28986499 0.28933102 0.28868559 0.28800505\n",
      " 0.28732589 0.2866717  0.28606015 0.2855033  0.28500652 0.28456888\n",
      " 0.28418458 0.28384468 0.28353819 0.28325438 0.28298253 0.28271392\n",
      " 0.28244111 0.28215885 0.28186363 0.28155378 0.28122869 0.28088927\n",
      " 0.2805371  0.28017437 0.27980343 0.27942672]\n",
      "29 day output [[0.2790464]]\n",
      "[[0.2880266010761261], [0.28969472646713257], [0.29010921716690063], [0.28986498713493347], [0.28933101892471313], [0.2886855900287628], [0.2880050539970398], [0.2873258888721466], [0.2866716980934143], [0.2860601544380188], [0.2855032980442047], [0.2850065231323242], [0.2845688760280609], [0.2841845750808716], [0.2838446795940399], [0.28353819251060486], [0.28325438499450684], [0.2829825282096863], [0.282713919878006], [0.282441109418869], [0.28215885162353516], [0.28186362981796265], [0.2815537750720978], [0.2812286913394928], [0.28088927268981934], [0.28053709864616394], [0.2801743745803833], [0.27980342507362366], [0.2794267237186432], [0.2790463864803314]]\n"
     ]
    }
   ],
   "source": [
    "from numpy import array\n",
    "\n",
    "list_output = []\n",
    "n_steps = 100\n",
    "i=0\n",
    "while(i<30):\n",
    "    if(len(temp_input)>100):\n",
    "        #print(temp_input)\n",
    "        x_input = np.array(temp_input[1:])\n",
    "        print(\"{} day input {}\".format(i,x_input))\n",
    "        x_input = x_input.reshape(1,-1)\n",
    "        x_input = x_input.reshape((1, n_steps, 1))\n",
    "        #print(x_input)\n",
    "        yhat = algo.predict(x_input, verbose=0)\n",
    "        print(\"{} day output {}\".format(i,yhat))\n",
    "        temp_input.extend(yhat[0].tolist())\n",
    "        temp_input = temp_input[1:]\n",
    "        #print(temp_input)\n",
    "        list_output.extend(yhat.tolist())\n",
    "        i=i+1\n",
    "    else:\n",
    "        x_input = x_input.reshape((1, n_steps, 1))\n",
    "        yhat = algo.predict(x_input, verbose =0)\n",
    "        print(yhat[0])\n",
    "        temp_input.extend(yhat[0].tolist())\n",
    "        print(len(temp_input))\n",
    "        list_output.extend(yhat.tolist())\n",
    "        i=i+1\n",
    "        \n",
    "print(list_output)"
   ]
  },
  {
   "cell_type": "code",
   "execution_count": 44,
   "id": "58cb9fa0",
   "metadata": {},
   "outputs": [],
   "source": [
    "day_new = np.arange(1,101)\n",
    "day_pred = np.arange(101,131)"
   ]
  },
  {
   "cell_type": "code",
   "execution_count": 45,
   "id": "3527d40d",
   "metadata": {},
   "outputs": [],
   "source": [
    "import matplotlib.pyplot as plt"
   ]
  },
  {
   "cell_type": "code",
   "execution_count": 46,
   "id": "8651c5c0",
   "metadata": {},
   "outputs": [
    {
     "data": {
      "text/plain": [
       "4944"
      ]
     },
     "execution_count": 46,
     "metadata": {},
     "output_type": "execute_result"
    }
   ],
   "source": [
    "len(df1_train)-100"
   ]
  },
  {
   "cell_type": "code",
   "execution_count": 47,
   "id": "101727f2",
   "metadata": {},
   "outputs": [
    {
     "data": {
      "text/plain": [
       "[<matplotlib.lines.Line2D at 0x2a4261c4310>]"
      ]
     },
     "execution_count": 47,
     "metadata": {},
     "output_type": "execute_result"
    },
    {
     "data": {
      "image/png": "[encoded data removed]",
      "text/plain": [
       "<Figure size 432x288 with 1 Axes>"
      ]
     },
     "metadata": {
      "needs_background": "light"
     },
     "output_type": "display_data"
    }
   ],
   "source": [
    "plt.plot(day_new, sc.inverse_transform(df1_train[4944:]))\n",
    "plt.plot(day_pred, sc.inverse_transform(list_output))"
   ]
  },
  {
   "cell_type": "code",
   "execution_count": 48,
   "id": "16b4c092",
   "metadata": {},
   "outputs": [
    {
     "data": {
      "text/plain": [
       "[<matplotlib.lines.Line2D at 0x2a424a2c400>]"
      ]
     },
     "execution_count": 48,
     "metadata": {},
     "output_type": "execute_result"
    },
    {
     "data": {
      "image/png": "[encoded data removed]",
      "text/plain": [
       "<Figure size 432x288 with 1 Axes>"
      ]
     },
     "metadata": {
      "needs_background": "light"
     },
     "output_type": "display_data"
    }
   ],
   "source": [
    "df3 = df1_train.tolist()\n",
    "df3.extend(list_output)\n",
    "plt.plot(df3[4000:])"
   ]
  },
  {
   "cell_type": "code",
   "execution_count": 49,
   "id": "2d861ef2",
   "metadata": {},
   "outputs": [
    {
     "data": {
      "text/plain": [
       "[<matplotlib.lines.Line2D at 0x2a42299a940>]"
      ]
     },
     "execution_count": 49,
     "metadata": {},
     "output_type": "execute_result"
    },
    {
     "data": {
      "image/png": "[encoded data removed]",
      "text/plain": [
       "<Figure size 432x288 with 1 Axes>"
      ]
     },
     "metadata": {
      "needs_background": "light"
     },
     "output_type": "display_data"
    }
   ],
   "source": [
    "df3 = sc.inverse_transform(df3).tolist()\n",
    "plt.plot(df3)\n"
   ]
  },
  {
   "cell_type": "markdown",
   "id": "bff2aaa8",
   "metadata": {},
   "source": [
    "# This way we can predict the future stock prices"
   ]
  }
 ],
 "metadata": {
  "kernelspec": {
   "display_name": "Python 3 (ipykernel)",
   "language": "python",
   "name": "python3"
  },
  "language_info": {
   "codemirror_mode": {
    "name": "ipython",
    "version": 3
   },
   "file_extension": ".py",
   "mimetype": "text/x-python",
   "name": "python",
   "nbconvert_exporter": "python",
   "pygments_lexer": "ipython3",
   "version": "3.9.7"
  }
 },
 "nbformat": 4,
 "nbformat_minor": 5
}
